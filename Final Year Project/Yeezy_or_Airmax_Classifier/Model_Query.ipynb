{
 "cells": [
  {
   "cell_type": "code",
   "execution_count": 1,
   "metadata": {
    "scrolled": true
   },
   "outputs": [
    {
     "name": "stdout",
     "output_type": "stream",
     "text": [
      "[[0.1019846  0.89801544]]\n",
      "YEEZY\n"
     ]
    }
   ],
   "source": [
    "import cv2\n",
    "import numpy as np\n",
    "import tensorflow as tf\n",
    "\n",
    "IMG_SIZE = 120\n",
    "\n",
    "def prepare(filepath):\n",
    "    try:\n",
    "        img_array = cv2.imread(filepath, cv2.IMREAD_GRAYSCALE)\n",
    "        new_array = cv2.resize(img_array, (IMG_SIZE, IMG_SIZE))\n",
    "        return new_array.reshape(-1, IMG_SIZE, IMG_SIZE, 1)\n",
    "    except Exception as e:\n",
    "        print(e)\n",
    "        pass\n",
    "    \n",
    "model = tf.keras.models.load_model(\"AIRFORCE_OR_YEEZY--0.001-2conv-basic.model\")\n",
    "img = prepare(\"YEEZY_7.PNG\")\n",
    "img = tf.cast(img, tf.float32)\n",
    "prediction = model.predict(img)\n",
    "print (prediction)\n",
    "\n",
    "if np.argmax(prediction) == 1:\n",
    "    print ('YEEZY')\n",
    "else:\n",
    "    print ('AIRFORCE')\n",
    "    "
   ]
  },
  {
   "cell_type": "code",
   "execution_count": 2,
   "metadata": {},
   "outputs": [
    {
     "name": "stdout",
     "output_type": "stream",
     "text": [
      "[[0.6159708  0.38402918]]\n",
      "AIRFORCE\n"
     ]
    }
   ],
   "source": [
    "img = prepare(\"C:/Users/Jamie/Desktop/download.JPG\")\n",
    "img = tf.cast(img, tf.float32)\n",
    "prediction = model.predict(img)\n",
    "print (prediction)\n",
    "\n",
    "if np.argmax(prediction) == 1:\n",
    "    print ('YEEZY')\n",
    "else:\n",
    "    print ('AIRFORCE')\n",
    "    "
   ]
  },
  {
   "cell_type": "code",
   "execution_count": null,
   "metadata": {},
   "outputs": [],
   "source": []
  }
 ],
 "metadata": {
  "kernelspec": {
   "display_name": "Python 3",
   "language": "python",
   "name": "python3"
  },
  "language_info": {
   "codemirror_mode": {
    "name": "ipython",
    "version": 3
   },
   "file_extension": ".py",
   "mimetype": "text/x-python",
   "name": "python",
   "nbconvert_exporter": "python",
   "pygments_lexer": "ipython3",
   "version": "3.7.0"
  }
 },
 "nbformat": 4,
 "nbformat_minor": 2
}
